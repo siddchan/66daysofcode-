{
 "cells": [
  {
   "cell_type": "code",
   "execution_count": 49,
   "id": "eafe2267",
   "metadata": {},
   "outputs": [],
   "source": [
    "# importing libraries\n",
    "import tensorflow as tf\n",
    "from matplotlib import pyplot as plt\n",
    "import numpy as np"
   ]
  },
  {
   "cell_type": "code",
   "execution_count": 51,
   "id": "d7d03a46",
   "metadata": {},
   "outputs": [],
   "source": [
    "# import dataset from keras lib\n",
    "objects =  tf.keras.datasets.mnist\n",
    "# and preparing data\n",
    "(training_images, training_labels), (test_images, test_labels) = objects.load_data()\n"
   ]
  },
  {
   "cell_type": "code",
   "execution_count": 38,
   "id": "b656b4b6",
   "metadata": {},
   "outputs": [
    {
     "data": {
      "image/png": "[encoded data removed]",
      "text/plain": [
       "<Figure size 432x288 with 9 Axes>"
      ]
     },
     "metadata": {
      "needs_background": "light"
     },
     "output_type": "display_data"
    }
   ],
   "source": [
    "for i in range(9):\n",
    "\t# define subplot\n",
    "\tplt.subplot(330 + 1 + i)\n",
    "\t# plot raw pixel data\n",
    "\tplt.imshow(training_images[i])"
   ]
  },
  {
   "cell_type": "code",
   "execution_count": 39,
   "id": "8311ca06",
   "metadata": {},
   "outputs": [
    {
     "name": "stdout",
     "output_type": "stream",
     "text": [
      "(60000, 28, 28)\n",
      "[[  0   0   0   0   0   0   0   0   0   0   0   0   0   0   0   0   0   0\n",
      "    0   0   0   0   0   0   0   0   0   0]\n",
      " [  0   0   0   0   0   0   0   0   0   0   0   0   0   0   0   0   0   0\n",
      "    0   0   0   0   0   0   0   0   0   0]\n",
      " [  0   0   0   0   0   0   0   0   0   0   0   0   0   0   0   0   0   0\n",
      "    0   0   0   0   0   0   0   0   0   0]\n",
      " [  0   0   0   0   0   0   0   0   0   0   0   0   0   0   0   0   0   0\n",
      "    0   0   0   0   0   0   0   0   0   0]\n",
      " [  0   0   0   0   0   0   0   0   0   0   0   0   0   0   0   0   0   0\n",
      "    0   0   0   0   0   0   0   0   0   0]\n",
      " [  0   0   0   0   0   0   0   0   0   0   0   0   3  18  18  18 126 136\n",
      "  175  26 166 255 247 127   0   0   0   0]\n",
      " [  0   0   0   0   0   0   0   0  30  36  94 154 170 253 253 253 253 253\n",
      "  225 172 253 242 195  64   0   0   0   0]\n",
      " [  0   0   0   0   0   0   0  49 238 253 253 253 253 253 253 253 253 251\n",
      "   93  82  82  56  39   0   0   0   0   0]\n",
      " [  0   0   0   0   0   0   0  18 219 253 253 253 253 253 198 182 247 241\n",
      "    0   0   0   0   0   0   0   0   0   0]\n",
      " [  0   0   0   0   0   0   0   0  80 156 107 253 253 205  11   0  43 154\n",
      "    0   0   0   0   0   0   0   0   0   0]\n",
      " [  0   0   0   0   0   0   0   0   0  14   1 154 253  90   0   0   0   0\n",
      "    0   0   0   0   0   0   0   0   0   0]\n",
      " [  0   0   0   0   0   0   0   0   0   0   0 139 253 190   2   0   0   0\n",
      "    0   0   0   0   0   0   0   0   0   0]\n",
      " [  0   0   0   0   0   0   0   0   0   0   0  11 190 253  70   0   0   0\n",
      "    0   0   0   0   0   0   0   0   0   0]\n",
      " [  0   0   0   0   0   0   0   0   0   0   0   0  35 241 225 160 108   1\n",
      "    0   0   0   0   0   0   0   0   0   0]\n",
      " [  0   0   0   0   0   0   0   0   0   0   0   0   0  81 240 253 253 119\n",
      "   25   0   0   0   0   0   0   0   0   0]\n",
      " [  0   0   0   0   0   0   0   0   0   0   0   0   0   0  45 186 253 253\n",
      "  150  27   0   0   0   0   0   0   0   0]\n",
      " [  0   0   0   0   0   0   0   0   0   0   0   0   0   0   0  16  93 252\n",
      "  253 187   0   0   0   0   0   0   0   0]\n",
      " [  0   0   0   0   0   0   0   0   0   0   0   0   0   0   0   0   0 249\n",
      "  253 249  64   0   0   0   0   0   0   0]\n",
      " [  0   0   0   0   0   0   0   0   0   0   0   0   0   0  46 130 183 253\n",
      "  253 207   2   0   0   0   0   0   0   0]\n",
      " [  0   0   0   0   0   0   0   0   0   0   0   0  39 148 229 253 253 253\n",
      "  250 182   0   0   0   0   0   0   0   0]\n",
      " [  0   0   0   0   0   0   0   0   0   0  24 114 221 253 253 253 253 201\n",
      "   78   0   0   0   0   0   0   0   0   0]\n",
      " [  0   0   0   0   0   0   0   0  23  66 213 253 253 253 253 198  81   2\n",
      "    0   0   0   0   0   0   0   0   0   0]\n",
      " [  0   0   0   0   0   0  18 171 219 253 253 253 253 195  80   9   0   0\n",
      "    0   0   0   0   0   0   0   0   0   0]\n",
      " [  0   0   0   0  55 172 226 253 253 253 253 244 133  11   0   0   0   0\n",
      "    0   0   0   0   0   0   0   0   0   0]\n",
      " [  0   0   0   0 136 253 253 253 212 135 132  16   0   0   0   0   0   0\n",
      "    0   0   0   0   0   0   0   0   0   0]\n",
      " [  0   0   0   0   0   0   0   0   0   0   0   0   0   0   0   0   0   0\n",
      "    0   0   0   0   0   0   0   0   0   0]\n",
      " [  0   0   0   0   0   0   0   0   0   0   0   0   0   0   0   0   0   0\n",
      "    0   0   0   0   0   0   0   0   0   0]\n",
      " [  0   0   0   0   0   0   0   0   0   0   0   0   0   0   0   0   0   0\n",
      "    0   0   0   0   0   0   0   0   0   0]]\n"
     ]
    }
   ],
   "source": [
    "print(training_images.shape)\n",
    "print(training_images[0])"
   ]
  },
  {
   "cell_type": "code",
   "execution_count": 53,
   "id": "506849ff",
   "metadata": {},
   "outputs": [],
   "source": [
    "# normalising data to make it work easily\n",
    "training_images  = training_images / 255.0\n",
    "test_images = test_images / 255.0"
   ]
  },
  {
   "cell_type": "code",
   "execution_count": 41,
   "id": "c40ca32e",
   "metadata": {},
   "outputs": [],
   "source": [
    "# mdoel making\n",
    "model = tf.keras.models.Sequential([tf.keras.layers.Flatten(input_shape=(28,28)), \n",
    "                                    tf.keras.layers.Dense(128, activation='relu'), \n",
    "                                    tf.keras.layers.Dense(10, activation=tf.nn.softmax)])"
   ]
  },
  {
   "cell_type": "code",
   "execution_count": 43,
   "id": "a9466ec5",
   "metadata": {},
   "outputs": [],
   "source": [
    "\n",
    "model.compile(optimizer = 'adam',\n",
    "              loss = 'sparse_categorical_crossentropy',\n",
    "              metrics=['accuracy'])"
   ]
  },
  {
   "cell_type": "code",
   "execution_count": 47,
   "id": "3cbabb31",
   "metadata": {},
   "outputs": [
    {
     "name": "stdout",
     "output_type": "stream",
     "text": [
      "Epoch 1/20\n",
      "60000/60000 [==============================] - 2s 32us/sample - loss: 0.0357 - acc: 0.9891\n",
      "Epoch 2/20\n",
      "60000/60000 [==============================] - 2s 31us/sample - loss: 0.0280 - acc: 0.9913\n",
      "Epoch 3/20\n",
      "60000/60000 [==============================] - 2s 32us/sample - loss: 0.0231 - acc: 0.9924\n",
      "Epoch 4/20\n",
      "60000/60000 [==============================] - 2s 32us/sample - loss: 0.0183 - acc: 0.9945\n",
      "Epoch 5/20\n",
      "60000/60000 [==============================] - 2s 33us/sample - loss: 0.0155 - acc: 0.99531s -\n",
      "Epoch 6/20\n",
      "60000/60000 [==============================] - 2s 33us/sample - loss: 0.0134 - acc: 0.9958\n",
      "Epoch 7/20\n",
      "60000/60000 [==============================] - 2s 32us/sample - loss: 0.0102 - acc: 0.9972\n",
      "Epoch 8/20\n",
      "60000/60000 [==============================] - 2s 31us/sample - loss: 0.0109 - acc: 0.9966\n",
      "Epoch 9/20\n",
      "60000/60000 [==============================] - 2s 31us/sample - loss: 0.0087 - acc: 0.99730s - loss: 0\n",
      "Epoch 10/20\n",
      "60000/60000 [==============================] - 2s 31us/sample - loss: 0.0076 - acc: 0.9974\n",
      "Epoch 11/20\n",
      "60000/60000 [==============================] - 2s 31us/sample - loss: 0.0084 - acc: 0.9973\n",
      "Epoch 12/20\n",
      "60000/60000 [==============================] - 2s 31us/sample - loss: 0.0050 - acc: 0.9986\n",
      "Epoch 13/20\n",
      "60000/60000 [==============================] - 2s 31us/sample - loss: 0.0071 - acc: 0.9976\n",
      "Epoch 14/20\n",
      "60000/60000 [==============================] - 2s 31us/sample - loss: 0.0051 - acc: 0.9985\n",
      "Epoch 15/20\n",
      "60000/60000 [==============================] - 2s 32us/sample - loss: 0.0059 - acc: 0.9980\n",
      "Epoch 16/20\n",
      "60000/60000 [==============================] - 2s 32us/sample - loss: 0.0043 - acc: 0.9986\n",
      "Epoch 17/20\n",
      "60000/60000 [==============================] - 2s 32us/sample - loss: 0.0060 - acc: 0.9979\n",
      "Epoch 18/20\n",
      "60000/60000 [==============================] - 2s 32us/sample - loss: 0.0042 - acc: 0.9987\n",
      "Epoch 19/20\n",
      "60000/60000 [==============================] - 2s 33us/sample - loss: 0.0052 - acc: 0.9984\n",
      "Epoch 20/20\n",
      "60000/60000 [==============================] - 2s 32us/sample - loss: 0.0038 - acc: 0.9987\n"
     ]
    },
    {
     "data": {
      "text/plain": [
       "<tensorflow.python.keras.callbacks.History at 0x1b46458f908>"
      ]
     },
     "execution_count": 47,
     "metadata": {},
     "output_type": "execute_result"
    }
   ],
   "source": [
    "model.fit(training_images, training_labels, epochs=20)\n"
   ]
  },
  {
   "cell_type": "code",
   "execution_count": 45,
   "id": "cbe2e286",
   "metadata": {},
   "outputs": [
    {
     "name": "stdout",
     "output_type": "stream",
     "text": [
      "10000/10000 [==============================] - 0s 20us/sample - loss: 0.0831 - acc: 0.9736\n",
      "[0.08310223865876906, 0.9736]\n"
     ]
    }
   ],
   "source": [
    "print(model.evaluate(test_images,test_labels))\n",
    "# doing manual prediction based on full for all test sample"
   ]
  },
  {
   "cell_type": "code",
   "execution_count": 46,
   "id": "451059a8",
   "metadata": {},
   "outputs": [
    {
     "name": "stdout",
     "output_type": "stream",
     "text": [
      "7\n"
     ]
    },
    {
     "data": {
      "image/png": "[encoded data removed]",
      "text/plain": [
       "<Figure size 432x288 with 1 Axes>"
      ]
     },
     "metadata": {
      "needs_background": "light"
     },
     "output_type": "display_data"
    }
   ],
   "source": [
    "# doing manual prediction for first label in test dataset\n",
    "plt.imshow(test_images[0])\n",
    "prediction=model.predict(test_images)\n",
    "print(np.argmax(prediction[0]))"
   ]
  },
  {
   "cell_type": "markdown",
   "id": "cbc5a1be",
   "metadata": {},
   "source": []
  }
 ],
 "metadata": {
  "kernelspec": {
   "display_name": "Python 3",
   "language": "python",
   "name": "python3"
  },
  "language_info": {
   "codemirror_mode": {
    "name": "ipython",
    "version": 3
   },
   "file_extension": ".py",
   "mimetype": "text/x-python",
   "name": "python",
   "nbconvert_exporter": "python",
   "pygments_lexer": "ipython3",
   "version": "3.8.10"
  }
 },
 "nbformat": 4,
 "nbformat_minor": 5
}
